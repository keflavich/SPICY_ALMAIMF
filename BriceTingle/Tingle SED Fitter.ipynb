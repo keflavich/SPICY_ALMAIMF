{
 "cells": [
  {
   "cell_type": "markdown",
   "id": "d34f825f-8646-4c0c-ade9-772f3b716bdf",
   "metadata": {},
   "source": [
    "# ALMA-IMF+SPICY: SED Fitting\n",
    "\n",
    "Workspace for importing the fits files generated through the SED Table Prep workspace, running the SED fitting, and saving the results to an astropy table."
   ]
  },
  {
   "cell_type": "code",
   "execution_count": 1,
   "id": "74a57b70-8f52-446d-8bd7-f6d54ab20de4",
   "metadata": {},
   "outputs": [],
   "source": [
    "from table_loading import *"
   ]
  },
  {
   "cell_type": "raw",
   "id": "7a4a0e3c-5aab-4d89-ae97-b89742693604",
   "metadata": {},
   "source": [
    "# not necessary so long as the path to models is correct in the function\n",
    "import shutil\n",
    "shutil.copytree('/blue/adamginsburg/richardson.t/research/flux/r+23_models-1.1',\n",
    "                '/blue/adamginsburg/adamginsburg/SPICY_ALMAIMF/BriceTingle/robitaille_models')"
   ]
  },
  {
   "cell_type": "code",
   "execution_count": 2,
   "id": "d7fb1438-ee1d-4da6-8ccb-fbc76946af64",
   "metadata": {},
   "outputs": [],
   "source": [
    "# get rid of ALMA points for comparison?\n",
    "almaoverride = False\n",
    "\n",
    "# select ALMA-IMF field of interest\n",
    "fields_to_fit = None"
   ]
  },
  {
   "cell_type": "code",
   "execution_count": 3,
   "id": "03e6e626-3c3d-4b17-a203-1f02a39cb068",
   "metadata": {},
   "outputs": [],
   "source": [
    "# utility function to read object sizes in more convenient measurements\n",
    "def bytesto(bytes, to, bsize=1024):\n",
    "    \"\"\"convert bytes to megabytes, etc.\n",
    "       sample code:\n",
    "           print('mb= ' + str(bytesto(314575262000000, 'm')))\n",
    "       sample output: \n",
    "           mb= 300002347.946\n",
    "    \"\"\"\n",
    "\n",
    "    a = {'k' : 1, 'm': 2, 'g' : 3, 't' : 4, 'p' : 5, 'e' : 6 }\n",
    "    r = float(bytes)\n",
    "    for i in range(a[to]):\n",
    "        r = r / bsize\n",
    "\n",
    "    return(r)"
   ]
  },
  {
   "cell_type": "code",
   "execution_count": null,
   "id": "2efcc0fe-434d-48b0-bc59-2037aabee1c9",
   "metadata": {
    "tags": []
   },
   "outputs": [],
   "source": [
    "if fields_to_fit == None:\n",
    "    # Call 'None' to fit all fields in the sample (will take a while!)\n",
    "    fields_to_fit = ['G10','G12','W43MM1','W43MM2','W43MM3','W51-E','W51IRS2',\n",
    "                     'G008','G327','G328','G333','G337','G338','G351','G353']\n",
    "\n",
    "fit_results_tbl = Table(data=np.zeros(0, dtype=[('SPICY', 'int64'), ('geometry', 'str'),\n",
    "                                            ('source.flux', 'str'),('source.error', 'str'),\n",
    "                                            ('source.valid', 'str'),('MODEL_NAME', 'str'),\n",
    "                                            ('chi2', 'float64'),('av', 'float64'),('sc', 'float64')]))\n",
    "\n",
    "if almaoverride:\n",
    "    fit_results_tbl.write(f'/blue/adamginsburg/adamginsburg/SPICY_ALMAIMF/BriceTingle/fit_results_NoALMA', format='fits', overwrite=True)\n",
    "else:\n",
    "    fit_results_tbl.write(f'/blue/adamginsburg/adamginsburg/SPICY_ALMAIMF/BriceTingle/fit_results', format='fits', overwrite=True)\n",
    "del(fit_results_tbl)\n",
    "\n",
    "for fieldid in tqdm(fields_to_fit):\n",
    "    print(fieldid)\n",
    "    region_fitinfo = {}\n",
    "\n",
    "    # load table from Table Prep notebook\n",
    "    tbl = Table.read(f'/blue/adamginsburg/adamginsburg/SPICY_ALMAIMF/BriceTingle/Region_tables/Unfitted/{fieldid}', format='fits') # !filepath!\n",
    "    print(\"Sources: \",len(tbl))\n",
    "\n",
    "    if almaoverride:\n",
    "        for x in ['ALMA-IMF_3mm_flux','ALMA-IMF_3mm_eflux','ALMA-IMF_1mm_flux','ALMA-IMF_1mm_eflux']:\n",
    "            tbl[x] = 0\n",
    "            tbl[x] = np.nan\n",
    "            tbl[x] = np.ma.masked\n",
    "\n",
    "    # define constant sizes, based on literature values\n",
    "    apertures = [2.4, 2.4, 2.4, 2.4, 6, 10, 13.5, 23, 30, 41, 3, 3]*u.arcsec\n",
    "    \n",
    "    # determine filters and add aperture sizes based on whether we're using UKDISS or VIRAC data\n",
    "    ukidss_fields = ['G10','G12','W43MM1','W43MM2','W43MM3','W51-E','W51IRS2']\n",
    "    virac_fields = ['G008','G327','G328','G333','G337','G338','G351','G353']\n",
    "    \n",
    "    if any(x in virac_fields for x in tbl['ALMAIMF_FIELDID']):\n",
    "        print(\"Grabbing VIRAC filters\")\n",
    "        sed_filters, wavelength_dict, filternames, zpts = get_filters(\"south\")\n",
    "        apertures = apertures.insert(0,[1.415, 1.415, 1.415, 1.415, 1.415]*u.arcsec)\n",
    "        hemisphere = \"south\"\n",
    "    elif any(x in ukidss_fields for x in tbl['ALMAIMF_FIELDID']):\n",
    "        print(\"Grabbing UKIDSS filters\")\n",
    "        sed_filters, wavelength_dict, filternames, zpts = get_filters(\"north\")\n",
    "        apertures = apertures.insert(0,[2, 2, 2]*u.arcsec)\n",
    "        hemisphere = \"north\"\n",
    "    print(\"Filters:\"+str(filternames))\n",
    "    print(\"Apertures:\"+str(apertures))\n",
    "\n",
    "    # read distance from table (in kpc)\n",
    "    regiondistance = np.nanmax(tbl['Distance'])\n",
    "    print(\"Region literature distance (kpc): \"+str(regiondistance))\n",
    "    \n",
    "    # infer allowable distance range (in kpc)\n",
    "    distance_range=[regiondistance-0.2, regiondistance+0.2]\n",
    "    print(\"Distance range (kpc):\"+str(distance_range))\n",
    "    \n",
    "    # determine appropriate extinction, using 2*region distance as a lower bound\n",
    "    av_range=[regiondistance*2,60]\n",
    "    print(\"Extinction range (kpc): \"+str(av_range))\n",
    "    \n",
    "    # make extinction law\n",
    "    extinction = make_extinction()\n",
    "    \n",
    "    # run fitting on each source in region, store data to an array\n",
    "    for rownum, row in enumerate(tbl):\n",
    "        fits = full_source_fit(tbl, rownum, filternames, apertures, \n",
    "                               '/blue/adamginsburg/adamginsburg/SPICY_ALMAIMF/BriceTingle/robitaille_models', \n",
    "                               extinction, distance_range*u.kpc, av_range)\n",
    "        \n",
    "        # append fit data to data array\n",
    "        region_fitinfo[tbl['SPICY'][rownum]] = fits\n",
    "        \n",
    "        #clean variables for memory\n",
    "        del(fits)\n",
    "    \n",
    "    new_tbl = construct_fitinfo_tbl(region_fitinfo)\n",
    "    if almaoverride:\n",
    "        prev_tbl = Table.read('/blue/adamginsburg/adamginsburg/SPICY_ALMAIMF/BriceTingle/fit_results_NoALMA')\n",
    "    else:\n",
    "        prev_tbl = Table.read('/blue/adamginsburg/adamginsburg/SPICY_ALMAIMF/BriceTingle/fit_results') \n",
    "    fit_results_tbl = vstack([prev_tbl, new_tbl])\n",
    "    print(bytesto(np.sum([np.sum([sys.getsizeof(fit_results_tbl[colname][n]) for n in np.arange(len(fit_results_tbl))]) for colname in fit_results_tbl.keys()]),'g'))\n",
    "\n",
    "    del(new_tbl)\n",
    "    del(prev_tbl)\n",
    "    del(region_fitinfo)\n",
    "\n",
    "    if almaoverride:\n",
    "        fit_results_tbl.write(f'/blue/adamginsburg/adamginsburg/SPICY_ALMAIMF/BriceTingle/fit_results_NoALMA', format='fits', overwrite=True)\n",
    "    else:\n",
    "        fit_results_tbl.write(f'/blue/adamginsburg/adamginsburg/SPICY_ALMAIMF/BriceTingle/fit_results', format='fits', overwrite=True)\n",
    "    del(fit_results_tbl)"
   ]
  }
 ],
 "metadata": {
  "kernelspec": {
   "display_name": "Python 3 (ipykernel)",
   "language": "python",
   "name": "python3"
  },
  "language_info": {
   "codemirror_mode": {
    "name": "ipython",
    "version": 3
   },
   "file_extension": ".py",
   "mimetype": "text/x-python",
   "name": "python",
   "nbconvert_exporter": "python",
   "pygments_lexer": "ipython3",
   "version": "3.10.8"
  }
 },
 "nbformat": 4,
 "nbformat_minor": 5
}
